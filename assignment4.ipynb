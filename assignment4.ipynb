{
 "cells": [
  {
   "cell_type": "markdown",
   "id": "df0d234f-1e1a-4495-8208-e177e7f527aa",
   "metadata": {},
   "source": [
    "Complete the exercises below For **Assignment #4**.\n",
    "\n",
    "Use **Markdown** cells for the non-code answers."
   ]
  },
  {
   "cell_type": "markdown",
   "id": "67f720a0-2ead-44f5-bc11-8cbefda7b7d4",
   "metadata": {},
   "source": [
    "In this assignment we will work with the data underlying the *FiveThirtyEight* article [\"Higher Rates Of Hate Crimes Are Tied To Income Inequality\"](https://fivethirtyeight.com/features/higher-rates-of-hate-crimes-are-tied-to-income-inequality/)."
   ]
  },
  {
   "cell_type": "markdown",
   "id": "da3788bf-60c0-4b04-a09e-29bb08002d83",
   "metadata": {},
   "source": [
    "Load the `tidymodels`, `readr`, and `moderndive` packages in the cell below."
   ]
  },
  {
   "cell_type": "code",
   "execution_count": 1,
   "id": "c363d814-19a6-4173-899e-c54ada1860d2",
   "metadata": {
    "tags": []
   },
   "outputs": [
    {
     "name": "stderr",
     "output_type": "stream",
     "text": [
      "Warning message:\n",
      "“Failed to locate timezone database”\n",
      "── \u001b[1mAttaching packages\u001b[22m ────────────────────────────────────── tidymodels 1.1.1 ──\n",
      "\n",
      "\u001b[32m✔\u001b[39m \u001b[34mbroom       \u001b[39m 1.0.5     \u001b[32m✔\u001b[39m \u001b[34mrecipes     \u001b[39m 1.0.9\n",
      "\u001b[32m✔\u001b[39m \u001b[34mdials       \u001b[39m 1.2.0     \u001b[32m✔\u001b[39m \u001b[34mrsample     \u001b[39m 1.2.0\n",
      "\u001b[32m✔\u001b[39m \u001b[34mdplyr       \u001b[39m 1.1.4     \u001b[32m✔\u001b[39m \u001b[34mtibble      \u001b[39m 3.2.1\n",
      "\u001b[32m✔\u001b[39m \u001b[34mggplot2     \u001b[39m 3.4.4     \u001b[32m✔\u001b[39m \u001b[34mtidyr       \u001b[39m 1.3.0\n",
      "\u001b[32m✔\u001b[39m \u001b[34minfer       \u001b[39m 1.0.5     \u001b[32m✔\u001b[39m \u001b[34mtune        \u001b[39m 1.1.2\n",
      "\u001b[32m✔\u001b[39m \u001b[34mmodeldata   \u001b[39m 1.2.0     \u001b[32m✔\u001b[39m \u001b[34mworkflows   \u001b[39m 1.1.3\n",
      "\u001b[32m✔\u001b[39m \u001b[34mparsnip     \u001b[39m 1.1.1     \u001b[32m✔\u001b[39m \u001b[34mworkflowsets\u001b[39m 1.0.1\n",
      "\u001b[32m✔\u001b[39m \u001b[34mpurrr       \u001b[39m 1.0.2     \u001b[32m✔\u001b[39m \u001b[34myardstick   \u001b[39m 1.2.0\n",
      "\n",
      "── \u001b[1mConflicts\u001b[22m ───────────────────────────────────────── tidymodels_conflicts() ──\n",
      "\u001b[31m✖\u001b[39m \u001b[34mpurrr\u001b[39m::\u001b[32mdiscard()\u001b[39m masks \u001b[34mscales\u001b[39m::discard()\n",
      "\u001b[31m✖\u001b[39m \u001b[34mdplyr\u001b[39m::\u001b[32mfilter()\u001b[39m  masks \u001b[34mstats\u001b[39m::filter()\n",
      "\u001b[31m✖\u001b[39m \u001b[34mdplyr\u001b[39m::\u001b[32mlag()\u001b[39m     masks \u001b[34mstats\u001b[39m::lag()\n",
      "\u001b[31m✖\u001b[39m \u001b[34mrecipes\u001b[39m::\u001b[32mstep()\u001b[39m  masks \u001b[34mstats\u001b[39m::step()\n",
      "\u001b[34m•\u001b[39m Search for functions across packages at \u001b[32mhttps://www.tidymodels.org/find/\u001b[39m\n",
      "\n",
      "\n",
      "Attaching package: ‘readr’\n",
      "\n",
      "\n",
      "The following object is masked from ‘package:yardstick’:\n",
      "\n",
      "    spec\n",
      "\n",
      "\n",
      "The following object is masked from ‘package:scales’:\n",
      "\n",
      "    col_factor\n",
      "\n",
      "\n"
     ]
    }
   ],
   "source": [
    "library(tidymodels)\n",
    "library(readr)\n",
    "library(moderndive)"
   ]
  },
  {
   "cell_type": "markdown",
   "id": "c4064cbe-78bd-4549-8543-fd91ed775e6e",
   "metadata": {},
   "source": [
    "We can read the data from a **CSV file** at the following URL: [http://bit.ly/2ItxYg3](http://bit.ly/2ItxYg3).\n",
    "\n",
    "Use the `read_csv` function to read the data into our R session. Call the new table `hate_crimes`."
   ]
  },
  {
   "cell_type": "code",
   "execution_count": 2,
   "id": "94ce1201-dd72-4109-9a64-333b7286aac7",
   "metadata": {
    "tags": []
   },
   "outputs": [
    {
     "name": "stderr",
     "output_type": "stream",
     "text": [
      "\u001b[1mRows: \u001b[22m\u001b[34m51\u001b[39m \u001b[1mColumns: \u001b[22m\u001b[34m9\u001b[39m\n",
      "\u001b[36m──\u001b[39m \u001b[1mColumn specification\u001b[22m \u001b[36m────────────────────────────────────────────────────────\u001b[39m\n",
      "\u001b[1mDelimiter:\u001b[22m \",\"\n",
      "\u001b[31mchr\u001b[39m (5): state, median_house_inc, trump_support, unemployment, urbanization\n",
      "\u001b[32mdbl\u001b[39m (4): share_pop_metro, hs, hate_crimes, income\n",
      "\n",
      "\u001b[36mℹ\u001b[39m Use `spec()` to retrieve the full column specification for this data.\n",
      "\u001b[36mℹ\u001b[39m Specify the column types or set `show_col_types = FALSE` to quiet this message.\n"
     ]
    },
    {
     "name": "stdout",
     "output_type": "stream",
     "text": [
      "Rows: 51\n",
      "Columns: 9\n",
      "$ state            \u001b[3m\u001b[90m<chr>\u001b[39m\u001b[23m \"New Mexico\", \"Maine\", \"New York\", \"Illinois\", \"Delaw…\n",
      "$ median_house_inc \u001b[3m\u001b[90m<chr>\u001b[39m\u001b[23m \"low\", \"low\", \"low\", \"low\", \"high\", \"high\", \"high\", \"…\n",
      "$ share_pop_metro  \u001b[3m\u001b[90m<dbl>\u001b[39m\u001b[23m 0.69, 0.54, 0.94, 0.90, 0.90, 1.00, 0.87, 0.86, 0.97,…\n",
      "$ hs               \u001b[3m\u001b[90m<dbl>\u001b[39m\u001b[23m 83, 90, 85, 86, 87, 85, 89, 90, 81, 91, 89, 89, 87, 8…\n",
      "$ hate_crimes      \u001b[3m\u001b[90m<dbl>\u001b[39m\u001b[23m 0.295, 0.616, 0.351, 0.195, 0.323, 0.095, 0.833, 0.67…\n",
      "$ trump_support    \u001b[3m\u001b[90m<chr>\u001b[39m\u001b[23m \"low\", \"low\", \"low\", \"low\", \"low\", \"low\", \"low\", \"low…\n",
      "$ unemployment     \u001b[3m\u001b[90m<chr>\u001b[39m\u001b[23m \"high\", \"low\", \"low\", \"high\", \"low\", \"high\", \"high\", …\n",
      "$ urbanization     \u001b[3m\u001b[90m<chr>\u001b[39m\u001b[23m \"low\", \"low\", \"high\", \"high\", \"high\", \"high\", \"high\",…\n",
      "$ income           \u001b[3m\u001b[90m<dbl>\u001b[39m\u001b[23m 46686, 51710, 54310, 54916, 57522, 58633, 58875, 5906…\n"
     ]
    }
   ],
   "source": [
    "hate_crimes = read_csv('http://bit.ly/2ItxYg3')\n",
    "hate_crimes |> glimpse()\n"
   ]
  },
  {
   "cell_type": "markdown",
   "id": "f4806491-e256-4823-aa63-612157c25966",
   "metadata": {},
   "source": [
    "Next, let’s add the high-school degree variable into the mix by creating a scatterplot showing:\n",
    "\n",
    "- Income on the y-axis (this is the `income` variable)\n",
    "- Percent of adults 25 or older with a high school degree on the x-axis (this is the `hs` variable)\n",
    "- The points colored by level of urbanization in a region (this is the variable `urbanization`)\n",
    "\n",
    "\n",
    "**In addition, add a line of best fit (regression line) for each level of the variable urbanization (one for “low”, one for “high”).**\n",
    "\n",
    "*Add the regression lines to the plot using the `geom_parallel_slopes` function from the `moderndive` package. This function will draw the regression lines based on fitting a regression model with parallel slopes (i.e., with no interaction between `hs` and `urbanization`).*"
   ]
  },
  {
   "cell_type": "code",
   "execution_count": 12,
   "id": "0df52489-dc41-4d74-ba64-a93f1d5c7ae1",
   "metadata": {
    "tags": []
   },
   "outputs": [
    {
     "ename": "ERROR",
     "evalue": "Error in eval(expr, envir, enclos): object 'urbanization' not found\n",
     "output_type": "error",
     "traceback": [
      "Error in eval(expr, envir, enclos): object 'urbanization' not found\nTraceback:\n",
      "1. geom_parallel_slopes(urbanization)",
      "2. ggplot2::layer(geom = ggplot2::GeomSmooth, stat = StatParallelSlopes, \n .     data = data, mapping = mapping, position = position, params = params, \n .     inherit.aes = inherit.aes, show.legend = show.legend)"
     ]
    }
   ],
   "source": [
    "hate_crimes |>\n",
    "    ggplot(mapping = aes(x = hs, y = income, color = urbanization)) +\n",
    "    geom_point() +\n",
    "    scale_color_brewer(palette=\"Set1\") +\n",
    "    geom_parallel_slopes(urbanization)"
   ]
  },
  {
   "cell_type": "markdown",
   "id": "6e532f1d-fa73-402b-96e0-f104a4c02791",
   "metadata": {},
   "source": [
    "❓Which regression line (high urbanization or low urbanization) appears to have the larger intercept?\n",
    "\n",
    "**Answer:**"
   ]
  },
  {
   "cell_type": "markdown",
   "id": "42b912c5-d833-44e0-988d-ab0865e62a27",
   "metadata": {},
   "source": [
    "**High urbanization has the larger intercept (\\~45,000) compared to low urbanization (~38,000)**\n"
   ]
  },
  {
   "cell_type": "markdown",
   "id": "e8c51941-740b-4bba-975f-12083a90dda0",
   "metadata": {},
   "source": [
    "Now let’s create a second scatterplot using the same variables, but this time draw the regression lines using `geom_smooth(method = \"lm\")`, which will allow for separate, non-parallel slopes for each urbanization group. \n",
    "\n",
    "**Code you your scatter plot in the cell below.**"
   ]
  },
  {
   "cell_type": "code",
   "execution_count": 4,
   "id": "fbdf3299-5151-4963-addb-6089506a9b1d",
   "metadata": {
    "tags": []
   },
   "outputs": [
    {
     "name": "stderr",
     "output_type": "stream",
     "text": [
      "\u001b[1m\u001b[22m`geom_smooth()` using formula = 'y ~ x'\n",
      "Warning message:\n",
      "“\u001b[1m\u001b[22mRemoved 3 rows containing non-finite values (`stat_smooth()`).”\n",
      "Warning message:\n",
      "“\u001b[1m\u001b[22mRemoved 3 rows containing missing values (`geom_point()`).”\n"
     ]
    },
    {
     "data": {
      "image/png": "[encoded data removed]",
      "text/plain": [
       "plot without title"
      ]
     },
     "metadata": {
      "image/png": {
       "height": 500,
       "width": 625
      }
     },
     "output_type": "display_data"
    }
   ],
   "source": [
    "hate_crimes |>\n",
    "    ggplot(mapping = aes(x = hs, y = income, color = urbanization)) +\n",
    "    geom_point() +\n",
    "    scale_color_brewer(palette=\"Set1\") +\n",
    "    geom_smooth(method=\"lm\")\n"
   ]
  },
  {
   "cell_type": "markdown",
   "id": "1a8b4ef0-c250-4f50-8354-75075608b95c",
   "metadata": {},
   "source": [
    "❓Based on visually comparing the two models shown above, do you think it would be best to run a “parallel slopes” model (i.e. a model that estimates one shared slope for the two levels of urbanization), or a more complex “interaction model” (i.e. a model that estimates a separate slope for the two levels of urbanization)?\n",
    "\n",
    "**Answer:**"
   ]
  },
  {
   "cell_type": "markdown",
   "id": "911ad60f-1bd2-4790-9226-5ff7fb8fb409",
   "metadata": {},
   "source": [
    "**Because the two sets of data (high vs. low) are generally separated, with 'low' data points consistently below 'high', a more complex model seems that it would yield a better result (this will later turn out to be incorrect).**\n"
   ]
  },
  {
   "cell_type": "markdown",
   "id": "58b774c5-d4d1-4473-be77-4a1271fa4ca2",
   "metadata": {},
   "source": [
    "Fit the following two regression models that examine the relationship between household `income` (as response variable), and high-school education (`hs`) and `urbanization` as explanatory variables:\n",
    "\n",
    "1. A parallel slopes model (i.e., no interaction between `hs` and `urbanization`). ❗️Save the data recipe and model under the variables `ps_rec` and `ps_mod`, respectively. \n",
    "1. A non-parallel slopes model (i.e., allow `hs` and `urbanization` to interact in your model). ❗️Save the data recipe and model under the variable: `nps_rec` and `nps_mod`, respectively.\n",
    "\n",
    "**Code you your models in the cell below.**"
   ]
  },
  {
   "cell_type": "code",
   "execution_count": 5,
   "id": "30523b47-a9af-4462-9c47-8bab30e76cc6",
   "metadata": {
    "tags": []
   },
   "outputs": [
    {
     "data": {
      "text/plain": [
       "parsnip model object\n",
       "\n",
       "\n",
       "Call:\n",
       "stats::lm(formula = income ~ ., data = data)\n",
       "\n",
       "Coefficients:\n",
       "     (Intercept)                hs  urbanization_low  \n",
       "         -113725              1987             -7333  \n"
      ]
     },
     "metadata": {},
     "output_type": "display_data"
    }
   ],
   "source": [
    "# parallel slopes model\n",
    "\n",
    "ps_rec = recipe(income ~ hs + urbanization, data = hate_crimes) |> \n",
    "    step_naomit(everything()) |>   # remove missing values\n",
    "    step_dummy(urbanization) |>    # dummy encode the urbanization variable\n",
    "    prep()                         # run the recipe on the training data provided\n",
    "\n",
    "mod = linear_reg() |> set_engine('lm')\n",
    "\n",
    "ps_mod = mod |> fit(income ~ ., juice(ps_rec))\n",
    "\n",
    "ps_mod"
   ]
  },
  {
   "cell_type": "code",
   "execution_count": 6,
   "id": "5f00c972-f677-4315-8ef8-a85c6e18be95",
   "metadata": {
    "tags": []
   },
   "outputs": [
    {
     "data": {
      "text/plain": [
       "parsnip model object\n",
       "\n",
       "\n",
       "Call:\n",
       "stats::lm(formula = income ~ ., data = data)\n",
       "\n",
       "Coefficients:\n",
       "          (Intercept)                     hs       urbanization_low  \n",
       "               -95647                   1777                 -35394  \n",
       "urbanization_low_x_hs  \n",
       "                  324  \n"
      ]
     },
     "metadata": {},
     "output_type": "display_data"
    }
   ],
   "source": [
    "# non-parallel slopes model\n",
    "\n",
    "# ❗️ you can use most of the code above, just add step_interact(~ starts_with(\"urbanization\"):hs) to the recipe and\n",
    "#    switch the variable names...\n",
    "\n",
    "nps_rec = recipe(income ~ hs + urbanization, data = hate_crimes) |> \n",
    "    step_naomit(everything()) |>   # remove missing values\n",
    "    step_dummy(urbanization) |>    # dummy encode the urbanization variable\n",
    "    step_interact(~ starts_with(\"urbanization\"):hs) |>\n",
    "    prep()                         # run the recipe on the training data provided\n",
    "\n",
    "\n",
    "nps_mod = mod |> fit(income ~ ., juice(nps_rec))\n",
    "\n",
    "nps_mod\n",
    "\n"
   ]
  },
  {
   "cell_type": "markdown",
   "id": "868f615c-c5b3-4246-8460-1cd85c06c43a",
   "metadata": {},
   "source": [
    "The following code creates a table of your model predictions over the training data. Calculate the [coefficient of determination](https://en.wikipedia.org/wiki/Coefficient_of_determination) (R<sup>2</sup>) for each model:\n",
    "\n",
    "```r\n",
    "rbind(\n",
    "    augment(ps_mod, juice(ps_rec)) |> select(income, .pred, .resid) |> mutate(model = \"parallel_slopes\"),\n",
    "    augment(nps_mod, juice(nps_rec)) |> select(income, .pred, .resid) |> mutate(model = \"interaction\")\n",
    ")\n",
    "```\n",
    "\n",
    "1. Group rows by the `model` variable (use the `group_by` function).\n",
    "1. Calculate the variance of income over the variance of your predictions for each model using the \"grouped\" data from the step above (use `summarize(r_squared = var(.pred) / var(income))`)."
   ]
  },
  {
   "cell_type": "code",
   "execution_count": 7,
   "id": "962ac82c-48a1-424e-90a7-f6fdc71d52fb",
   "metadata": {
    "tags": []
   },
   "outputs": [
    {
     "data": {
      "text/html": [
       "<table class=\"dataframe\">\n",
       "<caption>A tibble: 2 × 2</caption>\n",
       "<thead>\n",
       "\t<tr><th scope=col>model</th><th scope=col>r_squared</th></tr>\n",
       "\t<tr><th scope=col>&lt;chr&gt;</th><th scope=col>&lt;dbl&gt;</th></tr>\n",
       "</thead>\n",
       "<tbody>\n",
       "\t<tr><td>interaction    </td><td>0.5746731</td></tr>\n",
       "\t<tr><td>parallel_slopes</td><td>0.5716112</td></tr>\n",
       "</tbody>\n",
       "</table>\n"
      ],
      "text/latex": [
       "A tibble: 2 × 2\n",
       "\\begin{tabular}{ll}\n",
       " model & r\\_squared\\\\\n",
       " <chr> & <dbl>\\\\\n",
       "\\hline\n",
       "\t interaction     & 0.5746731\\\\\n",
       "\t parallel\\_slopes & 0.5716112\\\\\n",
       "\\end{tabular}\n"
      ],
      "text/markdown": [
       "\n",
       "A tibble: 2 × 2\n",
       "\n",
       "| model &lt;chr&gt; | r_squared &lt;dbl&gt; |\n",
       "|---|---|\n",
       "| interaction     | 0.5746731 |\n",
       "| parallel_slopes | 0.5716112 |\n",
       "\n"
      ],
      "text/plain": [
       "  model           r_squared\n",
       "1 interaction     0.5746731\n",
       "2 parallel_slopes 0.5716112"
      ]
     },
     "metadata": {},
     "output_type": "display_data"
    }
   ],
   "source": [
    "total_pred = rbind(\n",
    "    augment(ps_mod, juice(ps_rec)) |> select(income, .pred, .resid) |> mutate(model = \"parallel_slopes\"),\n",
    "    augment(nps_mod, juice(nps_rec)) |> select(income, .pred, .resid) |> mutate(model = \"interaction\")\n",
    ") |> group_by(model)\n",
    "\n",
    "total_pred |> summarize(r_squared = var(.pred) / var(income))"
   ]
  },
  {
   "cell_type": "markdown",
   "id": "840b7b72-84b9-4577-ac88-13a82f90f808",
   "metadata": {},
   "source": [
    "🎶 Note: you can also use the `glance` function with a model as input to find the coefficient of determination."
   ]
  },
  {
   "cell_type": "code",
   "execution_count": 8,
   "id": "68c3db16-e926-46d6-8647-4277560d2e25",
   "metadata": {
    "tags": []
   },
   "outputs": [
    {
     "data": {
      "text/html": [
       "<table class=\"dataframe\">\n",
       "<caption>A tibble: 1 × 12</caption>\n",
       "<thead>\n",
       "\t<tr><th scope=col>r.squared</th><th scope=col>adj.r.squared</th><th scope=col>sigma</th><th scope=col>statistic</th><th scope=col>p.value</th><th scope=col>df</th><th scope=col>logLik</th><th scope=col>AIC</th><th scope=col>BIC</th><th scope=col>deviance</th><th scope=col>df.residual</th><th scope=col>nobs</th></tr>\n",
       "\t<tr><th scope=col>&lt;dbl&gt;</th><th scope=col>&lt;dbl&gt;</th><th scope=col>&lt;dbl&gt;</th><th scope=col>&lt;dbl&gt;</th><th scope=col>&lt;dbl&gt;</th><th scope=col>&lt;dbl&gt;</th><th scope=col>&lt;dbl&gt;</th><th scope=col>&lt;dbl&gt;</th><th scope=col>&lt;dbl&gt;</th><th scope=col>&lt;dbl&gt;</th><th scope=col>&lt;int&gt;</th><th scope=col>&lt;int&gt;</th></tr>\n",
       "</thead>\n",
       "<tbody>\n",
       "\t<tr><td>0.5746731</td><td>0.5456735</td><td>6374.244</td><td>19.81661</td><td>2.814509e-08</td><td>3</td><td>-486.5018</td><td>983.0035</td><td>992.3595</td><td>1787763166</td><td>44</td><td>48</td></tr>\n",
       "</tbody>\n",
       "</table>\n"
      ],
      "text/latex": [
       "A tibble: 1 × 12\n",
       "\\begin{tabular}{llllllllllll}\n",
       " r.squared & adj.r.squared & sigma & statistic & p.value & df & logLik & AIC & BIC & deviance & df.residual & nobs\\\\\n",
       " <dbl> & <dbl> & <dbl> & <dbl> & <dbl> & <dbl> & <dbl> & <dbl> & <dbl> & <dbl> & <int> & <int>\\\\\n",
       "\\hline\n",
       "\t 0.5746731 & 0.5456735 & 6374.244 & 19.81661 & 2.814509e-08 & 3 & -486.5018 & 983.0035 & 992.3595 & 1787763166 & 44 & 48\\\\\n",
       "\\end{tabular}\n"
      ],
      "text/markdown": [
       "\n",
       "A tibble: 1 × 12\n",
       "\n",
       "| r.squared &lt;dbl&gt; | adj.r.squared &lt;dbl&gt; | sigma &lt;dbl&gt; | statistic &lt;dbl&gt; | p.value &lt;dbl&gt; | df &lt;dbl&gt; | logLik &lt;dbl&gt; | AIC &lt;dbl&gt; | BIC &lt;dbl&gt; | deviance &lt;dbl&gt; | df.residual &lt;int&gt; | nobs &lt;int&gt; |\n",
       "|---|---|---|---|---|---|---|---|---|---|---|---|\n",
       "| 0.5746731 | 0.5456735 | 6374.244 | 19.81661 | 2.814509e-08 | 3 | -486.5018 | 983.0035 | 992.3595 | 1787763166 | 44 | 48 |\n",
       "\n"
      ],
      "text/plain": [
       "  r.squared adj.r.squared sigma    statistic p.value      df logLik    AIC     \n",
       "1 0.5746731 0.5456735     6374.244 19.81661  2.814509e-08 3  -486.5018 983.0035\n",
       "  BIC      deviance   df.residual nobs\n",
       "1 992.3595 1787763166 44          48  "
      ]
     },
     "metadata": {},
     "output_type": "display_data"
    },
    {
     "data": {
      "text/html": [
       "<table class=\"dataframe\">\n",
       "<caption>A tibble: 1 × 12</caption>\n",
       "<thead>\n",
       "\t<tr><th scope=col>r.squared</th><th scope=col>adj.r.squared</th><th scope=col>sigma</th><th scope=col>statistic</th><th scope=col>p.value</th><th scope=col>df</th><th scope=col>logLik</th><th scope=col>AIC</th><th scope=col>BIC</th><th scope=col>deviance</th><th scope=col>df.residual</th><th scope=col>nobs</th></tr>\n",
       "\t<tr><th scope=col>&lt;dbl&gt;</th><th scope=col>&lt;dbl&gt;</th><th scope=col>&lt;dbl&gt;</th><th scope=col>&lt;dbl&gt;</th><th scope=col>&lt;dbl&gt;</th><th scope=col>&lt;dbl&gt;</th><th scope=col>&lt;dbl&gt;</th><th scope=col>&lt;dbl&gt;</th><th scope=col>&lt;dbl&gt;</th><th scope=col>&lt;dbl&gt;</th><th scope=col>&lt;int&gt;</th><th scope=col>&lt;int&gt;</th></tr>\n",
       "</thead>\n",
       "<tbody>\n",
       "\t<tr><td>0.5716112</td><td>0.5525717</td><td>6325.667</td><td>30.02238</td><td>5.204241e-09</td><td>2</td><td>-486.6739</td><td>981.3479</td><td>988.8327</td><td>1800633086</td><td>45</td><td>48</td></tr>\n",
       "</tbody>\n",
       "</table>\n"
      ],
      "text/latex": [
       "A tibble: 1 × 12\n",
       "\\begin{tabular}{llllllllllll}\n",
       " r.squared & adj.r.squared & sigma & statistic & p.value & df & logLik & AIC & BIC & deviance & df.residual & nobs\\\\\n",
       " <dbl> & <dbl> & <dbl> & <dbl> & <dbl> & <dbl> & <dbl> & <dbl> & <dbl> & <dbl> & <int> & <int>\\\\\n",
       "\\hline\n",
       "\t 0.5716112 & 0.5525717 & 6325.667 & 30.02238 & 5.204241e-09 & 2 & -486.6739 & 981.3479 & 988.8327 & 1800633086 & 45 & 48\\\\\n",
       "\\end{tabular}\n"
      ],
      "text/markdown": [
       "\n",
       "A tibble: 1 × 12\n",
       "\n",
       "| r.squared &lt;dbl&gt; | adj.r.squared &lt;dbl&gt; | sigma &lt;dbl&gt; | statistic &lt;dbl&gt; | p.value &lt;dbl&gt; | df &lt;dbl&gt; | logLik &lt;dbl&gt; | AIC &lt;dbl&gt; | BIC &lt;dbl&gt; | deviance &lt;dbl&gt; | df.residual &lt;int&gt; | nobs &lt;int&gt; |\n",
       "|---|---|---|---|---|---|---|---|---|---|---|---|\n",
       "| 0.5716112 | 0.5525717 | 6325.667 | 30.02238 | 5.204241e-09 | 2 | -486.6739 | 981.3479 | 988.8327 | 1800633086 | 45 | 48 |\n",
       "\n"
      ],
      "text/plain": [
       "  r.squared adj.r.squared sigma    statistic p.value      df logLik    AIC     \n",
       "1 0.5716112 0.5525717     6325.667 30.02238  5.204241e-09 2  -486.6739 981.3479\n",
       "  BIC      deviance   df.residual nobs\n",
       "1 988.8327 1800633086 45          48  "
      ]
     },
     "metadata": {},
     "output_type": "display_data"
    }
   ],
   "source": [
    "glance(nps_mod)\n",
    "glance(ps_mod)"
   ]
  },
  {
   "cell_type": "markdown",
   "id": "ce3fcc58-dfcc-4c86-967a-c8e2a9f071f8",
   "metadata": {},
   "source": [
    "❓Compare the adjusted proportion of variance account for each model. Based on this comparison, which model do you prefer? Why? \n",
    "\n",
    "**Answer:**"
   ]
  },
  {
   "cell_type": "markdown",
   "id": "94c2ba45-f766-40e9-b93b-a8fdee470da5",
   "metadata": {
    "tags": []
   },
   "source": [
    "\n",
    "**Interestingly, despite the non_parallel_slopes having a higher r.squared value it has a lower adj.r.squared value. This indicates that the nps_model's higher r.squared value is just the result of having a greater number of data points 'improving' it's accuracy numbers without actually improving its accuracy.**\n"
   ]
  },
  {
   "cell_type": "markdown",
   "id": "3b8b4c84-898f-4914-b06b-2eeb99f0d234",
   "metadata": {},
   "source": [
    "❓Using your preferred model, based on your regression model parameters (and the data visualizations), is `income` greater in states that have lower or higher levels of `urbanization`? By how much?\n",
    "\n",
    "**Hint:** use the `tidy` function with your model as input to access the parameters in a nice table.\n",
    "\n",
    "**Answer:**"
   ]
  },
  {
   "cell_type": "code",
   "execution_count": 11,
   "id": "c094d0a2-2030-45a8-9643-9c6eac642fb3",
   "metadata": {},
   "outputs": [
    {
     "data": {
      "text/html": [
       "<table class=\"dataframe\">\n",
       "<caption>A tibble: 3 × 5</caption>\n",
       "<thead>\n",
       "\t<tr><th scope=col>term</th><th scope=col>estimate</th><th scope=col>std.error</th><th scope=col>statistic</th><th scope=col>p.value</th></tr>\n",
       "\t<tr><th scope=col>&lt;chr&gt;</th><th scope=col>&lt;dbl&gt;</th><th scope=col>&lt;dbl&gt;</th><th scope=col>&lt;dbl&gt;</th><th scope=col>&lt;dbl&gt;</th></tr>\n",
       "</thead>\n",
       "<tbody>\n",
       "\t<tr><td>(Intercept)     </td><td>-113725.193</td><td>23552.9187</td><td>-4.828497</td><td>1.624694e-05</td></tr>\n",
       "\t<tr><td>hs              </td><td>   1986.794</td><td>  272.9303</td><td> 7.279490</td><td>3.930730e-09</td></tr>\n",
       "\t<tr><td>urbanization_low</td><td>  -7333.326</td><td> 1857.6592</td><td>-3.947616</td><td>2.744526e-04</td></tr>\n",
       "</tbody>\n",
       "</table>\n"
      ],
      "text/latex": [
       "A tibble: 3 × 5\n",
       "\\begin{tabular}{lllll}\n",
       " term & estimate & std.error & statistic & p.value\\\\\n",
       " <chr> & <dbl> & <dbl> & <dbl> & <dbl>\\\\\n",
       "\\hline\n",
       "\t (Intercept)      & -113725.193 & 23552.9187 & -4.828497 & 1.624694e-05\\\\\n",
       "\t hs               &    1986.794 &   272.9303 &  7.279490 & 3.930730e-09\\\\\n",
       "\t urbanization\\_low &   -7333.326 &  1857.6592 & -3.947616 & 2.744526e-04\\\\\n",
       "\\end{tabular}\n"
      ],
      "text/markdown": [
       "\n",
       "A tibble: 3 × 5\n",
       "\n",
       "| term &lt;chr&gt; | estimate &lt;dbl&gt; | std.error &lt;dbl&gt; | statistic &lt;dbl&gt; | p.value &lt;dbl&gt; |\n",
       "|---|---|---|---|---|\n",
       "| (Intercept)      | -113725.193 | 23552.9187 | -4.828497 | 1.624694e-05 |\n",
       "| hs               |    1986.794 |   272.9303 |  7.279490 | 3.930730e-09 |\n",
       "| urbanization_low |   -7333.326 |  1857.6592 | -3.947616 | 2.744526e-04 |\n",
       "\n"
      ],
      "text/plain": [
       "  term             estimate    std.error  statistic p.value     \n",
       "1 (Intercept)      -113725.193 23552.9187 -4.828497 1.624694e-05\n",
       "2 hs                  1986.794   272.9303  7.279490 3.930730e-09\n",
       "3 urbanization_low   -7333.326  1857.6592 -3.947616 2.744526e-04"
      ]
     },
     "metadata": {},
     "output_type": "display_data"
    }
   ],
   "source": [
    "tidy(ps_mod)\n"
   ]
  },
  {
   "cell_type": "markdown",
   "id": "c1516884-f1f6-463e-ae88-c4775bafb4e2",
   "metadata": {},
   "source": [
    "**Income is greater in states with high urbanization by roughly $7333.33. This provides a numerical backing to the eyeball observation above.**"
   ]
  },
  {
   "cell_type": "markdown",
   "id": "bf4c7cba-28b1-41e4-800b-275d0895ceff",
   "metadata": {},
   "source": [
    "❓For every one percentage point increase of high-school educated adults in a state (`hs` variable), what is the associated average increase in `income`?\n",
    "\n",
    "**Answer:**"
   ]
  },
  {
   "cell_type": "markdown",
   "id": "367f5a1b-8fb2-4759-abe3-83080cfd9b7b",
   "metadata": {},
   "source": [
    "**The associated average increase in income for each additional percentage point of high-school educated adults in a state is $1986.79**\n",
    "\n"
   ]
  }
 ],
 "metadata": {
  "kernelspec": {
   "display_name": "data730:R",
   "language": "R",
   "name": "conda-env-data730-r"
  },
  "language_info": {
   "codemirror_mode": "r",
   "file_extension": ".r",
   "mimetype": "text/x-r-source",
   "name": "R",
   "pygments_lexer": "r",
   "version": "4.3.2"
  }
 },
 "nbformat": 4,
 "nbformat_minor": 5
}
